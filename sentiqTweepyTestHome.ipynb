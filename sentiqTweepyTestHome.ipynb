{
  "nbformat": 4,
  "nbformat_minor": 0,
  "metadata": {
    "colab": {
      "name": "sentiqTweepyTestHome.ipynb",
      "provenance": [],
      "collapsed_sections": [],
      "history_visible": true,
      "include_colab_link": true
    },
    "kernelspec": {
      "name": "python3",
      "display_name": "Python 3"
    },
    "language_info": {
      "name": "python"
    }
  },
  "cells": [
    {
      "cell_type": "markdown",
      "metadata": {
        "id": "view-in-github",
        "colab_type": "text"
      },
      "source": [
        "<a href=\"https://colab.research.google.com/github/fortytwo09/webrtc-lab/blob/master/sentiqTweepyTestHome.ipynb\" target=\"_parent\"><img src=\"https://colab.research.google.com/assets/colab-badge.svg\" alt=\"Open In Colab\"/></a>"
      ]
    },
    {
      "cell_type": "code",
      "source": [
        "# !pip install ast\n",
        "!pip install tweepy==3.10.0\n",
        "!pip install gspread\n",
        "!pip install schedule"
      ],
      "metadata": {
        "colab": {
          "base_uri": "https://localhost:8080/"
        },
        "id": "nln-KGtmG9I2",
        "outputId": "0fb44ab5-736d-4f61-cc23-f470372090c6"
      },
      "execution_count": 1,
      "outputs": [
        {
          "output_type": "stream",
          "name": "stdout",
          "text": [
            "Requirement already satisfied: tweepy==3.10.0 in /usr/local/lib/python3.7/dist-packages (3.10.0)\n",
            "Requirement already satisfied: six>=1.10.0 in /usr/local/lib/python3.7/dist-packages (from tweepy==3.10.0) (1.15.0)\n",
            "Requirement already satisfied: requests[socks]>=2.11.1 in /usr/local/lib/python3.7/dist-packages (from tweepy==3.10.0) (2.23.0)\n",
            "Requirement already satisfied: requests-oauthlib>=0.7.0 in /usr/local/lib/python3.7/dist-packages (from tweepy==3.10.0) (1.3.1)\n",
            "Requirement already satisfied: oauthlib>=3.0.0 in /usr/local/lib/python3.7/dist-packages (from requests-oauthlib>=0.7.0->tweepy==3.10.0) (3.2.0)\n",
            "Requirement already satisfied: urllib3!=1.25.0,!=1.25.1,<1.26,>=1.21.1 in /usr/local/lib/python3.7/dist-packages (from requests[socks]>=2.11.1->tweepy==3.10.0) (1.24.3)\n",
            "Requirement already satisfied: idna<3,>=2.5 in /usr/local/lib/python3.7/dist-packages (from requests[socks]>=2.11.1->tweepy==3.10.0) (2.10)\n",
            "Requirement already satisfied: chardet<4,>=3.0.2 in /usr/local/lib/python3.7/dist-packages (from requests[socks]>=2.11.1->tweepy==3.10.0) (3.0.4)\n",
            "Requirement already satisfied: certifi>=2017.4.17 in /usr/local/lib/python3.7/dist-packages (from requests[socks]>=2.11.1->tweepy==3.10.0) (2021.10.8)\n",
            "Requirement already satisfied: PySocks!=1.5.7,>=1.5.6 in /usr/local/lib/python3.7/dist-packages (from requests[socks]>=2.11.1->tweepy==3.10.0) (1.7.1)\n",
            "Requirement already satisfied: gspread in /usr/local/lib/python3.7/dist-packages (3.4.2)\n",
            "Requirement already satisfied: google-auth in /usr/local/lib/python3.7/dist-packages (from gspread) (1.35.0)\n",
            "Requirement already satisfied: requests>=2.2.1 in /usr/local/lib/python3.7/dist-packages (from gspread) (2.23.0)\n",
            "Requirement already satisfied: chardet<4,>=3.0.2 in /usr/local/lib/python3.7/dist-packages (from requests>=2.2.1->gspread) (3.0.4)\n",
            "Requirement already satisfied: certifi>=2017.4.17 in /usr/local/lib/python3.7/dist-packages (from requests>=2.2.1->gspread) (2021.10.8)\n",
            "Requirement already satisfied: urllib3!=1.25.0,!=1.25.1,<1.26,>=1.21.1 in /usr/local/lib/python3.7/dist-packages (from requests>=2.2.1->gspread) (1.24.3)\n",
            "Requirement already satisfied: idna<3,>=2.5 in /usr/local/lib/python3.7/dist-packages (from requests>=2.2.1->gspread) (2.10)\n",
            "Requirement already satisfied: setuptools>=40.3.0 in /usr/local/lib/python3.7/dist-packages (from google-auth->gspread) (57.4.0)\n",
            "Requirement already satisfied: six>=1.9.0 in /usr/local/lib/python3.7/dist-packages (from google-auth->gspread) (1.15.0)\n",
            "Requirement already satisfied: cachetools<5.0,>=2.0.0 in /usr/local/lib/python3.7/dist-packages (from google-auth->gspread) (4.2.4)\n",
            "Requirement already satisfied: rsa<5,>=3.1.4 in /usr/local/lib/python3.7/dist-packages (from google-auth->gspread) (4.8)\n",
            "Requirement already satisfied: pyasn1-modules>=0.2.1 in /usr/local/lib/python3.7/dist-packages (from google-auth->gspread) (0.2.8)\n",
            "Requirement already satisfied: pyasn1<0.5.0,>=0.4.6 in /usr/local/lib/python3.7/dist-packages (from pyasn1-modules>=0.2.1->google-auth->gspread) (0.4.8)\n",
            "Collecting schedule\n",
            "  Downloading schedule-1.1.0-py2.py3-none-any.whl (10 kB)\n",
            "Installing collected packages: schedule\n",
            "Successfully installed schedule-1.1.0\n"
          ]
        }
      ]
    },
    {
      "cell_type": "code",
      "source": [
        "from ast import keyword\n",
        "import tweepy\n",
        "import time\n",
        "import random\n",
        "import re\n",
        "import gspread\n",
        "import pprint\n",
        "import schedule\n",
        "import time\n",
        "import math\n",
        "import json\n",
        "import pandas as pd\n",
        "from google.colab import auth\n",
        "from oauth2client.client import GoogleCredentials"
      ],
      "metadata": {
        "id": "_oOojddlGuAp"
      },
      "execution_count": 325,
      "outputs": []
    },
    {
      "cell_type": "code",
      "source": [
        "CONSUMER_KEY = \"2sHvmDN9a44FxhBS1mgXu2OsL\"\n",
        "CONSUMER_SECRET = \"os4HaZLO5GgCGTPMrJpjVugf4UuTwkPqyudhqBBQ3cukVBPuqc\"\n",
        "ACCESS_KEY = \"1504525510445252608-srWdbA57nL8FBc7FjQKX4CGfp3VpT3\"\n",
        "ACCESS_SECRET = \"7LTQ8QOBSD6cqcYf29ksK4Aisp12aQ887uzbF258vXHMr\""
      ],
      "metadata": {
        "id": "m8xb4eAsGuHs"
      },
      "execution_count": 339,
      "outputs": []
    },
    {
      "cell_type": "code",
      "source": [
        "def refresh_auth():\n",
        "    auth  = tweepy.OAuthHandler(CONSUMER_KEY, CONSUMER_SECRET)\n",
        "    auth.set_access_token(ACCESS_KEY, ACCESS_SECRET)\n",
        "    api = tweepy.API(auth, wait_on_rate_limit=True)\n",
        "    return api\n",
        "  \n",
        "def roll_dice(mention_keyword):\n",
        "    dice_info = []\n",
        "    dice_result_list = []\n",
        "\n",
        "    if len(mention_keyword) > 1: # 넘겨받은 매개변수의 길이가 1 초과라면 (예시 : ['다이스', '1d2'] 이므로 길이는 2다)\n",
        "        second_keyword = mention_keyword[1].strip() # 두번째 키워드를 보정한다. strip()은 앞뒤 공백을 지우는 함수다. (ex: ' 1d2 ' 였다면 '1d2'로 만든다)\n",
        "        \n",
        "        if 'd' in second_keyword: # 두번째 키워드 중에 d가 있다면\n",
        "            dice_info = second_keyword.split('d') # d를 기준으로 나누고 dice_info에 저장 (ex: '1d2' -> ['1', 'd', '2'])\n",
        "        elif 'D' in second_keyword: # 두번째 키워드 중에 D가 있다면\n",
        "            dice_info = second_keyword.split('D') # D를 기준으로 나누고 dice_info에 저장 (ex: '1D2' -> ['1', 'D', '2'])\n",
        "        \n",
        "        if len(dice_info) == 2: # D 앞뒤로 숫자 있나확인\n",
        "            try:\n",
        "                dice_f_num = int(dice_info[0]) # 첫번째 값은 '몇 번 굴릴것'인가 \n",
        "                dice_s_num = int(dice_info[1]) # 두번째 값은 '몇 면체'인가\n",
        "                for _ in range(dice_f_num): # 첫번째 값만큼 반복\n",
        "                    dice = random.randrange(1, dice_s_num+1) # 1 ~ 몇면체 사이의 값을 랜덤하게 뽑아서 dice에 저장\n",
        "                    dice_result_list.append(dice) # tmp_list에 굴린 다이스를 순서대로 추가 \n",
        "                return (dice_f_num, dice_s_num, dice_result_list) # 몇 번, 몇 면체, 총합, 다이스 숫자를 담아서 리턴\n",
        "                # return dice_result_list\n",
        "            except:\n",
        "                print(\"에러 발생\")\n",
        "                pass\n",
        "\n",
        "    print(\"! 다이스 키워드가 잘못됐습니다\")    \n",
        "    return(-1, -1, -1)"
      ],
      "metadata": {
        "id": "PxtqBVMiGuJ-"
      },
      "execution_count": 338,
      "outputs": []
    },
    {
      "cell_type": "code",
      "source": [
        "def sheetInsert(targetsheet, testval):\n",
        "    testval.append( str(time.strftime(\"%Y-%m-%d %H:%M:%S\")) ) #updat_date\n",
        "    testval.append( str(time.strftime(\"%Y-%m-%d %H:%M:%S\")) ) #reg_date\n",
        "    testval.insert( 0, \"\" ) # blank\n",
        "    print(type(testval))\n",
        "    targetsheet.append_row(testval)"
      ],
      "metadata": {
        "id": "88iI-ojXGuLt"
      },
      "execution_count": null,
      "outputs": []
    },
    {
      "cell_type": "code",
      "source": [
        "api = refresh_auth()\n",
        "print(\"api Refresh_auth SUCCESS\")"
      ],
      "metadata": {
        "colab": {
          "base_uri": "https://localhost:8080/"
        },
        "id": "HOudXo6DIx9W",
        "outputId": "76f92503-b438-4814-d784-2125b823eb3f"
      },
      "execution_count": 340,
      "outputs": [
        {
          "output_type": "stream",
          "name": "stdout",
          "text": [
            "api Refresh_auth SUCCESS\n"
          ]
        }
      ]
    },
    {
      "cell_type": "code",
      "source": [
        "def val_for_diceRoll(StrVal):\n",
        "  totalVal = 0\n",
        "  rollCount = 1\n",
        "  if 'd' in StrVal:\n",
        "    rollCount = int(StrVal[:StrVal.find('d')])\n",
        "    StrVal = StrVal[int(StrVal.find('d'))+1:]\n",
        "\n",
        "  diceValList = StrVal.split(sep='-')\n",
        "  for j in range(rollCount):\n",
        "    totalVal += random.randrange(int(diceValList[0]), int(diceValList[1])+1)\n",
        "  return totalVal\n",
        "\n",
        "def val_for_randomChoice(randomStrVal):\n",
        "  TestValVals = randomStrVal[re.search(r\"[:]\",randomStrVal).start()+1 : ].split(sep='/')\n",
        "  randomVal = random.choice(TestValVals)\n",
        "  return randomVal\n",
        "\n",
        "def val_for_percentageChoice(randomStrVal):\n",
        "  TestValVals = randomStrVal[re.search(r\"[:]\",randomStrVal).start()+1 : ].split(sep='/')\n",
        "  percentageList = eval(TestValVals[0])\n",
        "  percentageStrList = eval(TestValVals[1])\n",
        "  randomVal = random.choices(population=percentageStrList, weights=percentageList)\n",
        "  return str(randomVal).lstrip(\"['\").rstrip(\"']\")+\" \"\n",
        "\n",
        "def checkRollExists(inputTxt):\n",
        "  rollVal = re.search(r\"[\\{]+[^\\{|^\\}]+[\\}]{1}\", inputTxt)\n",
        "\n",
        "  if rollVal is not None :\n",
        "    rollData = inputTxt[rollVal.start():rollVal.end()-1]\n",
        "    TestValFunc = rollData[: re.search(r\"[:]\",rollData).start()]\n",
        "    TestValResult = \"\"\n",
        "\n",
        "    if 'random' in TestValFunc: #현재 random밖에 없음\n",
        "      choiceVal = val_for_randomChoice(rollData)\n",
        "      if '-' in choiceVal : #n-m의 다이스일 경우\n",
        "        rollData = val_for_diceRoll(choiceVal)\n",
        "      else : #문자열 값\n",
        "        rollData = choiceVal\n",
        "    \n",
        "    if 'dice' in TestValFunc:\n",
        "      choiceVal = val_for_randomChoice(rollData)\n",
        "      rollData = val_for_diceRoll(choiceVal)\n",
        "\n",
        "    if 'percentage' in TestValFunc:\n",
        "      rollData = val_for_percentageChoice(rollData)\n",
        "\n",
        "    TestValResult = inputTxt[:rollVal.start()-1]+\" \"+str(rollData)+inputTxt[rollVal.end():]\n",
        "    return checkRollExists(TestValResult) #재귀\n",
        "  else :\n",
        "    return inputTxt"
      ],
      "metadata": {
        "id": "Mw94EkcdeIZ3"
      },
      "execution_count": 269,
      "outputs": []
    },
    {
      "cell_type": "code",
      "source": [
        "textTxt = \"누군가의 인영을 [발견]하기 쉬운 것 같다. {percentage: [0.2, 0.4, 0.8]/['2할', '4할', '8할']}확률. {dice:10-15}개의 바람개비가 놓여있다. {random:바람이 시원하다. 'Q코인 {random:8-12/1-3}개' 획득./철조망 너머의 광경이 보인다.} {random:[자물쇠 달린 철조망]/[하트 조각상]}을 볼까? {random:[스카이 데크]/[타워 1층]}에 가도 좋고.\"\n",
        "# ndx-y >> n번 x부터 y값으로\n",
        "# {percentage: [0.2, 0.4, 0.8]/['2할', '4할', '8할']} >> 꼭 순서 맞춰주고 문자가 들어가는 경우 ' ' 내에 넣기\n",
        "print(checkRollExists(textTxt))"
      ],
      "metadata": {
        "colab": {
          "base_uri": "https://localhost:8080/"
        },
        "id": "mwWOwC-UAg6p",
        "outputId": "ba8c6fbe-a407-420e-a405-359b252bd597"
      },
      "execution_count": 270,
      "outputs": [
        {
          "output_type": "stream",
          "name": "stdout",
          "text": [
            "누군가의 인영을 [발견]하기 쉬운 것 같다. 2할 확률. 13개의 바람개비가 놓여있다. 철조망 너머의 광경이 보인다. [자물쇠 달린 철조망]을 볼까? [타워 1층]에 가도 좋고.\n"
          ]
        }
      ]
    },
    {
      "cell_type": "code",
      "source": [
        "auth.authenticate_user()\n",
        "gc = gspread.authorize(GoogleCredentials.get_application_default())\n",
        "sh = gc.open('sentiq')"
      ],
      "metadata": {
        "id": "HDqsfL5IAsLW"
      },
      "execution_count": 343,
      "outputs": []
    },
    {
      "cell_type": "code",
      "source": [
        "print('트윗 확인 중...', flush=True)\n",
        "api = refresh_auth()\n",
        "last_seen_id = sh.get_worksheet(1).acell('A1').value\n",
        "mentions = api.mentions_timeline(last_seen_id,tweet_mode='extended')\n",
        "print()\n",
        "\n",
        "for mention in reversed(mentions):\n",
        "  entities = mention.entities['user_mentions'] # 멘션 내 언급된 대상자들\n",
        "  print(str(mention.id) + ' - ' + mention.full_text, flush=True)\n",
        "  last_seen_id = mention.id\n",
        "\n",
        "user = api.get_user(mention.user.screen_name)\n",
        "name = user.name\n",
        "\n",
        "######### sheet 선언\n",
        "memberSheet = sh.sheet1\n",
        "memberCell = memberSheet.find(mention.user.screen_name)\n",
        "ExpSheet = sh.worksheet(\"exp\")\n",
        "logSheet = sh.worksheet(\"log\")\n",
        "ExaminLv1Sheet = sh.worksheet(\"examine_lv1\")\n",
        "\n",
        "if '[조사]' in mention.full_text.lower():\n",
        "  examArr = ExaminLv1Sheet.col_values(2)\n",
        "  for lv1 in examArr:\n",
        "    if lv1 in mention.full_text.lower():\n",
        "      ExamLv1Cell = ExaminLv1Sheet.find(lv1)\n",
        "      print(\"조사 IN\")"
      ],
      "metadata": {
        "colab": {
          "base_uri": "https://localhost:8080/"
        },
        "id": "DknLQWRKNdl7",
        "outputId": "189ba647-001b-4ace-841e-bad463143d39"
      },
      "execution_count": 345,
      "outputs": [
        {
          "output_type": "stream",
          "name": "stdout",
          "text": [
            "트윗 확인 중...\n",
            "\n",
            "1504883252833652739 - @STQ_diceB [나고야테스트]\n"
          ]
        }
      ]
    },
    {
      "cell_type": "code",
      "source": [
        "def reply_to_tweets():\n",
        "  print('트윗 확인 중...', flush=True)\n",
        "  api = refresh_auth()\n",
        "  sh.get_worksheet(1)\n",
        "  last_seen_id = (sh.get_worksheet(1)).cell(sh.get_worksheet(1))\n",
        "  mentions = api.mentions_timeline(last_seen_id,tweet_mode='extended')\n",
        "  print()\n",
        "\n",
        "  for mention in reversed(mentions):\n",
        "    entities = mention.entities['user_mentions'] # 멘션 내 언급된 대상자들\n",
        "    print(str(mention.id) + ' - ' + mention.full_text, flush=True)\n",
        "    last_seen_id = mention.id\n",
        "\n",
        "  user = api.get_user(mention.user.screen_name)\n",
        "  name = user.name\n",
        "\n",
        "  ######### sheet 선언\n",
        "  memberSheet = sh.sheet1\n",
        "  memberCell = memberSheet.find(mention.user.screen_name)\n",
        "  ExpSheet = sh.get_worksheet(1)\n",
        "  logSheet = sh.get_worksheet(3)\n",
        "  delta = 1 #증가시킬 숫자\n",
        "\n",
        "  ########## 유저 정보 선언\n",
        "  examineTimes = int(memberSheet.cell(memberCell.row, 4).value) #횟수 감산 값\n",
        "  # qChipNum = int(memberSheet.cell(memberCell.row, 5).value) # Q칩\n",
        "  attackDice = (memberSheet.cell(memberCell.row, 6).value) # 공격다이스\n",
        "  attackStat = int(memberSheet.cell(memberCell.row, 7).value) # 공격스탯\n",
        "  depenceDice = (memberSheet.cell(memberCell.row, 8).value) # 방어다이스\n",
        "  depenceStat = int(memberSheet.cell(memberCell.row, 9).value) # 방어스탯\n",
        "  hpStat = int(memberSheet.cell(memberCell.row, 10).value) # 체력\n",
        "  sanStat = int(memberSheet.cell(memberCell.row, 11).value) # 정신지수\n",
        "\n",
        "  ## TO DO :: 개편\n",
        "  # ExpSheet에서 키워드 라인 값 배열로 가져오기\n",
        "  expArr = ExpSheet.col_values(2) #['', '전체 키워드', '[나고야조사]', '[조사중지]', '[공격]', '[방어]', '[Hp정산]']\n",
        "  # switch로 keyword매칭\n",
        "  ## TO DO :: END\n",
        "\n",
        "  if '[조사]' in mention.full_text.lower():\n",
        "   print(\"조사 IN\")\n",
        "  else:\n",
        "    print(\"NOT FIND COMMAND\")\n",
        "\n",
        "  # schedule.every().days.at(\"07:00\").do(printtime1(mention)\n",
        "  store_last_seen_id(last_seen_id, FILE_NAME) # 완료될 경우(오류가 안 나고 제대로 된 실행=돈 들어올 때) last_id로 업데이트\n",
        "\n",
        "reply_to_tweets()\n",
        "print(\"__END__\")"
      ],
      "metadata": {
        "id": "--7T8VOpAkpT"
      },
      "execution_count": null,
      "outputs": []
    },
    {
      "cell_type": "code",
      "source": [
        ""
      ],
      "metadata": {
        "id": "6p-tiRLmAkyV"
      },
      "execution_count": null,
      "outputs": []
    }
  ]
}