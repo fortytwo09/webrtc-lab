{
  "nbformat": 4,
  "nbformat_minor": 0,
  "metadata": {
    "colab": {
      "name": "sentiqTweepyTest.ipynb",
      "provenance": [],
      "collapsed_sections": [],
      "history_visible": true,
      "authorship_tag": "ABX9TyPSLsMPOuY9EKWHmqSqlzkO",
      "include_colab_link": true
    },
    "kernelspec": {
      "name": "python3",
      "display_name": "Python 3"
    },
    "language_info": {
      "name": "python"
    }
  },
  "cells": [
    {
      "cell_type": "markdown",
      "metadata": {
        "id": "view-in-github",
        "colab_type": "text"
      },
      "source": [
        "<a href=\"https://colab.research.google.com/github/fortytwo09/webrtc-lab/blob/master/sentiqTweepyTest.ipynb\" target=\"_parent\"><img src=\"https://colab.research.google.com/assets/colab-badge.svg\" alt=\"Open In Colab\"/></a>"
      ]
    },
    {
      "cell_type": "code",
      "source": [
        "!pip install ast\n",
        "!pip install tweepy==3.10.0\n",
        "!pip install gspread\n",
        "!pip install schedule"
      ],
      "metadata": {
        "colab": {
          "base_uri": "https://localhost:8080/"
        },
        "id": "nln-KGtmG9I2",
        "outputId": "8fc1773e-194a-4d0c-8819-14067f535dea"
      },
      "execution_count": 1,
      "outputs": [
        {
          "output_type": "stream",
          "name": "stdout",
          "text": [
            "Collecting ast\n",
            "  Using cached AST-0.0.2.tar.gz (19 kB)\n",
            "\u001b[33mWARNING: Discarding https://files.pythonhosted.org/packages/4b/fb/2b954d2a38c9a0ef1da6a46737a75b4dbf6f60e5dad0f267a4ec5ece20de/AST-0.0.2.tar.gz#sha256=dc5b79c6ba11aea72c59c791a0bc5ae483b4c18fec6f643002d6fae24361eba0 (from https://pypi.org/simple/ast/). Command errored out with exit status 1: python setup.py egg_info Check the logs for full command output.\u001b[0m\n",
            "  Using cached AST-0.0.1.tar.gz (19 kB)\n",
            "\u001b[33mWARNING: Discarding https://files.pythonhosted.org/packages/a8/5a/5497b01657ead33200c98009cb9e78fe5986c90cc39ddaa64306f37472cf/AST-0.0.1.tar.gz#sha256=3ed8a7bd3526cfc46de1b849d92b03ae4600ed2042151f187b756c50ade5c2b0 (from https://pypi.org/simple/ast/). Command errored out with exit status 1: python setup.py egg_info Check the logs for full command output.\u001b[0m\n",
            "\u001b[31mERROR: Could not find a version that satisfies the requirement ast (from versions: 0.0.1, 0.0.2)\u001b[0m\n",
            "\u001b[31mERROR: No matching distribution found for ast\u001b[0m\n",
            "Requirement already satisfied: tweepy==3.10.0 in /usr/local/lib/python3.7/dist-packages (3.10.0)\n",
            "Requirement already satisfied: six>=1.10.0 in /usr/local/lib/python3.7/dist-packages (from tweepy==3.10.0) (1.15.0)\n",
            "Requirement already satisfied: requests[socks]>=2.11.1 in /usr/local/lib/python3.7/dist-packages (from tweepy==3.10.0) (2.23.0)\n",
            "Requirement already satisfied: requests-oauthlib>=0.7.0 in /usr/local/lib/python3.7/dist-packages (from tweepy==3.10.0) (1.3.1)\n",
            "Requirement already satisfied: oauthlib>=3.0.0 in /usr/local/lib/python3.7/dist-packages (from requests-oauthlib>=0.7.0->tweepy==3.10.0) (3.2.0)\n",
            "Requirement already satisfied: urllib3!=1.25.0,!=1.25.1,<1.26,>=1.21.1 in /usr/local/lib/python3.7/dist-packages (from requests[socks]>=2.11.1->tweepy==3.10.0) (1.24.3)\n",
            "Requirement already satisfied: certifi>=2017.4.17 in /usr/local/lib/python3.7/dist-packages (from requests[socks]>=2.11.1->tweepy==3.10.0) (2021.10.8)\n",
            "Requirement already satisfied: chardet<4,>=3.0.2 in /usr/local/lib/python3.7/dist-packages (from requests[socks]>=2.11.1->tweepy==3.10.0) (3.0.4)\n",
            "Requirement already satisfied: idna<3,>=2.5 in /usr/local/lib/python3.7/dist-packages (from requests[socks]>=2.11.1->tweepy==3.10.0) (2.10)\n",
            "Requirement already satisfied: PySocks!=1.5.7,>=1.5.6 in /usr/local/lib/python3.7/dist-packages (from requests[socks]>=2.11.1->tweepy==3.10.0) (1.7.1)\n",
            "Requirement already satisfied: gspread in /usr/local/lib/python3.7/dist-packages (3.4.2)\n",
            "Requirement already satisfied: requests>=2.2.1 in /usr/local/lib/python3.7/dist-packages (from gspread) (2.23.0)\n",
            "Requirement already satisfied: google-auth in /usr/local/lib/python3.7/dist-packages (from gspread) (1.35.0)\n",
            "Requirement already satisfied: chardet<4,>=3.0.2 in /usr/local/lib/python3.7/dist-packages (from requests>=2.2.1->gspread) (3.0.4)\n",
            "Requirement already satisfied: urllib3!=1.25.0,!=1.25.1,<1.26,>=1.21.1 in /usr/local/lib/python3.7/dist-packages (from requests>=2.2.1->gspread) (1.24.3)\n",
            "Requirement already satisfied: idna<3,>=2.5 in /usr/local/lib/python3.7/dist-packages (from requests>=2.2.1->gspread) (2.10)\n",
            "Requirement already satisfied: certifi>=2017.4.17 in /usr/local/lib/python3.7/dist-packages (from requests>=2.2.1->gspread) (2021.10.8)\n",
            "Requirement already satisfied: pyasn1-modules>=0.2.1 in /usr/local/lib/python3.7/dist-packages (from google-auth->gspread) (0.2.8)\n",
            "Requirement already satisfied: six>=1.9.0 in /usr/local/lib/python3.7/dist-packages (from google-auth->gspread) (1.15.0)\n",
            "Requirement already satisfied: setuptools>=40.3.0 in /usr/local/lib/python3.7/dist-packages (from google-auth->gspread) (57.4.0)\n",
            "Requirement already satisfied: cachetools<5.0,>=2.0.0 in /usr/local/lib/python3.7/dist-packages (from google-auth->gspread) (4.2.4)\n",
            "Requirement already satisfied: rsa<5,>=3.1.4 in /usr/local/lib/python3.7/dist-packages (from google-auth->gspread) (4.8)\n",
            "Requirement already satisfied: pyasn1<0.5.0,>=0.4.6 in /usr/local/lib/python3.7/dist-packages (from pyasn1-modules>=0.2.1->google-auth->gspread) (0.4.8)\n",
            "Requirement already satisfied: schedule in /usr/local/lib/python3.7/dist-packages (1.1.0)\n"
          ]
        }
      ]
    },
    {
      "cell_type": "code",
      "source": [
        "from ast import keyword\n",
        "import tweepy\n",
        "import time\n",
        "import random\n",
        "import re\n",
        "import gspread\n",
        "import pprint\n",
        "import schedule\n",
        "import time"
      ],
      "metadata": {
        "id": "_oOojddlGuAp"
      },
      "execution_count": 2,
      "outputs": []
    },
    {
      "cell_type": "code",
      "source": [
        "CONSUMER_KEY = \"2sHvmDN9a44FxhBS1mgXu2OsL\"\n",
        "CONSUMER_SECRET = \"os4HaZLO5GgCGTPMrJpjVugf4UuTwkPqyudhqBBQ3cukVBPuqc\"\n",
        "ACCESS_KEY = \"1504525510445252608-srWdbA57nL8FBc7FjQKX4CGfp3VpT3\"\n",
        "ACCESS_SECRET = \"7LTQ8QOBSD6cqcYf29ksK4Aisp12aQ887uzbF258vXHMr\""
      ],
      "metadata": {
        "id": "m8xb4eAsGuHs"
      },
      "execution_count": 3,
      "outputs": []
    },
    {
      "cell_type": "code",
      "source": [
        "def refresh_auth():\n",
        "    auth  = tweepy.OAuthHandler(CONSUMER_KEY, CONSUMER_SECRET)\n",
        "    auth.set_access_token(ACCESS_KEY, ACCESS_SECRET)\n",
        "    api = tweepy.API(auth, wait_on_rate_limit=True)\n",
        "    return api\n",
        "  \n",
        "def roll_dice(mention_keyword):\n",
        "    dice_info = []\n",
        "    dice_result_list = []\n",
        "\n",
        "    if len(mention_keyword) > 1: # 넘겨받은 매개변수의 길이가 1 초과라면 (예시 : ['다이스', '1d2'] 이므로 길이는 2다)\n",
        "        second_keyword = mention_keyword[1].strip() # 두번째 키워드를 보정한다. strip()은 앞뒤 공백을 지우는 함수다. (ex: ' 1d2 ' 였다면 '1d2'로 만든다)\n",
        "        \n",
        "        if 'd' in second_keyword: # 두번째 키워드 중에 d가 있다면\n",
        "            dice_info = second_keyword.split('d') # d를 기준으로 나누고 dice_info에 저장 (ex: '1d2' -> ['1', 'd', '2'])\n",
        "        elif 'D' in second_keyword: # 두번째 키워드 중에 D가 있다면\n",
        "            dice_info = second_keyword.split('D') # D를 기준으로 나누고 dice_info에 저장 (ex: '1D2' -> ['1', 'D', '2'])\n",
        "        \n",
        "        if len(dice_info) == 2: # D 앞뒤로 숫자 있나확인\n",
        "            try:\n",
        "                dice_f_num = int(dice_info[0]) # 첫번째 값은 '몇 번 굴릴것'인가 \n",
        "                dice_s_num = int(dice_info[1]) # 두번째 값은 '몇 면체'인가\n",
        "                for _ in range(dice_f_num): # 첫번째 값만큼 반복\n",
        "                    dice = random.randrange(1, dice_s_num+1) # 1 ~ 몇면체 사이의 값을 랜덤하게 뽑아서 dice에 저장\n",
        "                    dice_result_list.append(dice) # tmp_list에 굴린 다이스를 순서대로 추가 \n",
        "                return (dice_f_num, dice_s_num, dice_result_list) # 몇 번, 몇 면체, 총합, 다이스 숫자를 담아서 리턴\n",
        "                # return dice_result_list\n",
        "            except:\n",
        "                print(\"에러 발생\")\n",
        "                pass\n",
        "\n",
        "    print(\"! 다이스 키워드가 잘못됐습니다\")    \n",
        "    return(-1, -1, -1)"
      ],
      "metadata": {
        "id": "PxtqBVMiGuJ-"
      },
      "execution_count": 5,
      "outputs": []
    },
    {
      "cell_type": "code",
      "source": [
        "def sheetInsert(targetsheet, testval):\n",
        "    testval.append( str(time.strftime(\"%Y-%m-%d %H:%M:%S\")) ) #updat_date\n",
        "    testval.append( str(time.strftime(\"%Y-%m-%d %H:%M:%S\")) ) #reg_date\n",
        "    testval.insert( 0, \"\" ) # blank\n",
        "    print(type(testval))\n",
        "    targetsheet.append_row(testval)"
      ],
      "metadata": {
        "id": "88iI-ojXGuLt"
      },
      "execution_count": 6,
      "outputs": []
    },
    {
      "cell_type": "code",
      "source": [
        "api = refresh_auth()\n",
        "print(\"api Refresh_auth SUCCESS\")"
      ],
      "metadata": {
        "colab": {
          "base_uri": "https://localhost:8080/"
        },
        "id": "HOudXo6DIx9W",
        "outputId": "250b8688-c0f0-43e5-a799-36127a04e2cc"
      },
      "execution_count": 8,
      "outputs": [
        {
          "output_type": "stream",
          "name": "stdout",
          "text": [
            "api Refresh_auth SUCCESS\n"
          ]
        }
      ]
    },
    {
      "cell_type": "code",
      "source": [
        "textTxt = \"나고야가 훤히 보이는 전망대이다. 누군가의 인영을 [발견]하기 쉬운 것 같다. {random:바람이 제법 시원하다. 'Q코인 {random:8-12}개' 획득./철조망 너머의 광경이 보인다.} {random:[자물쇠 달린 철조망]/[하트 조각상]}을 볼까? {random:[스카이 데크]/[타워 1층]}에 가도 좋고.\""
      ],
      "metadata": {
        "id": "nXl0hBakIyHV"
      },
      "execution_count": 9,
      "outputs": []
    },
    {
      "cell_type": "code",
      "source": [
        "patternTxt = \"random:.\"\n",
        "#\n",
        "randomValue = re.findall(patternTxt, textTxt)\n",
        "#\n",
        "randomValue = list( re.finditer(patternTxt, textTxt) )\n",
        "print(type(randomValue))\n",
        "print(randomValue)\n",
        "for r in randomValue :\n",
        "  print(r)\n",
        "  # for r in reversed(range(randomValue)):\n",
        "  # print(r.start())\n",
        "#\n",
        "# p = re.compile(\"random:.\")\n",
        "# randomValue = p.search(textTxt)\n",
        "# print(randomValue)"
      ],
      "metadata": {
        "colab": {
          "base_uri": "https://localhost:8080/"
        },
        "id": "1aFbKFbBIyL1",
        "outputId": "2ed50874-be48-4616-c072-f61e6d8b1d64"
      },
      "execution_count": 42,
      "outputs": [
        {
          "output_type": "stream",
          "name": "stdout",
          "text": [
            "<class 'list'>\n",
            "[<re.Match object; span=(45, 53), match='random:바'>, <re.Match object; span=(71, 79), match='random:8'>, <re.Match object; span=(109, 117), match='random:['>, <re.Match object; span=(145, 153), match='random:['>]\n",
            "<re.Match object; span=(45, 53), match='random:바'>\n",
            "<re.Match object; span=(71, 79), match='random:8'>\n",
            "<re.Match object; span=(109, 117), match='random:['>\n",
            "<re.Match object; span=(145, 153), match='random:['>\n"
          ]
        }
      ]
    }
  ]
}